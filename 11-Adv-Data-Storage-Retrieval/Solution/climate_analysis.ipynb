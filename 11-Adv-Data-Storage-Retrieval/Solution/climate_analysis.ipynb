{
 "cells": [
  {
   "cell_type": "markdown",
   "metadata": {},
   "source": [
    "# Climate Analysis and Exploration"
   ]
  },
  {
   "cell_type": "markdown",
   "metadata": {},
   "source": [
    "Using sqlalcemy, pandas and matplotlib perform the analysis and exploration of climate data from the database."
   ]
  },
  {
   "cell_type": "code",
   "execution_count": 1,
   "metadata": {
    "collapsed": true
   },
   "outputs": [],
   "source": [
    "import pandas as pd\n",
    "import matplotlib.pyplot as plt\n",
    "import sqlalchemy\n",
    "from sqlalchemy.ext.automap import automap_base\n",
    "from sqlalchemy.orm import Session\n",
    "from sqlalchemy import create_engine, inspect\n",
    "from sqlalchemy.ext.declarative import declarative_base\n",
    "from sqlalchemy import Column, Integer, String, Float, ForeignKey, Date, func \n",
    "from datetime import datetime\n",
    "from collections import Counter\n",
    "import numpy as np\n",
    "from datetime import datetime, timedelta"
   ]
  },
  {
   "cell_type": "code",
   "execution_count": 2,
   "metadata": {},
   "outputs": [
    {
     "data": {
      "text/plain": [
       "['measurement', 'station']"
      ]
     },
     "execution_count": 2,
     "metadata": {},
     "output_type": "execute_result"
    }
   ],
   "source": [
    "engine = create_engine('sqlite:///hawaii.sqlite')\n",
    "Base = automap_base()\n",
    "Base.prepare(engine, reflect=True)\n",
    "Base.classes.keys()"
   ]
  },
  {
   "cell_type": "code",
   "execution_count": 3,
   "metadata": {
    "collapsed": true
   },
   "outputs": [],
   "source": [
    "session = Session(engine)"
   ]
  },
  {
   "cell_type": "code",
   "execution_count": 4,
   "metadata": {
    "collapsed": true
   },
   "outputs": [],
   "source": [
    "Measurement = Base.classes.measurement\n",
    "Station = Base.classes.station"
   ]
  },
  {
   "cell_type": "code",
   "execution_count": 5,
   "metadata": {},
   "outputs": [
    {
     "name": "stdout",
     "output_type": "stream",
     "text": [
      "2017-08-23\n",
      "2016-08-23\n"
     ]
    }
   ],
   "source": [
    "max_dt = session.query(func.max(Measurement.date)).all()\n",
    "end_dt = max_dt[0][0]\n",
    "print(end_dt)\n",
    "start_dt = end_dt.replace(year = (end_dt.year - 1))\n",
    "print(start_dt)"
   ]
  },
  {
   "cell_type": "markdown",
   "metadata": {},
   "source": [
    "### Precipitation Analysis"
   ]
  },
  {
   "cell_type": "code",
   "execution_count": 6,
   "metadata": {
    "collapsed": true
   },
   "outputs": [],
   "source": [
    "dt = []\n",
    "prcptn = []\n",
    "for row in session.query(Measurement.date, Measurement.prcp).filter(Measurement.date.between(start_dt, end_dt)):\n",
    "    dt.append(row.date)\n",
    "    prcptn.append(float(row.prcp))"
   ]
  },
  {
   "cell_type": "code",
   "execution_count": 7,
   "metadata": {},
   "outputs": [
    {
     "name": "stdout",
     "output_type": "stream",
     "text": [
      "[datetime.date(2016, 8, 23), datetime.date(2016, 8, 24), datetime.date(2016, 8, 25), datetime.date(2016, 8, 26), datetime.date(2016, 8, 27)]\n",
      "[0.0, 0.08, 0.08, 0.0, 0.0]\n"
     ]
    }
   ],
   "source": [
    "print(dt[:5])\n",
    "print(prcptn[:5])"
   ]
  },
  {
   "cell_type": "code",
   "execution_count": 8,
   "metadata": {
    "collapsed": true
   },
   "outputs": [],
   "source": [
    "prcp_df = pd.DataFrame({\"date\": dt,\n",
    "                  \"precipitation\": prcptn})"
   ]
  },
  {
   "cell_type": "code",
   "execution_count": 9,
   "metadata": {},
   "outputs": [
    {
     "data": {
      "text/html": [
       "<div>\n",
       "<style>\n",
       "    .dataframe thead tr:only-child th {\n",
       "        text-align: right;\n",
       "    }\n",
       "\n",
       "    .dataframe thead th {\n",
       "        text-align: left;\n",
       "    }\n",
       "\n",
       "    .dataframe tbody tr th {\n",
       "        vertical-align: top;\n",
       "    }\n",
       "</style>\n",
       "<table border=\"1\" class=\"dataframe\">\n",
       "  <thead>\n",
       "    <tr style=\"text-align: right;\">\n",
       "      <th></th>\n",
       "      <th>date</th>\n",
       "      <th>precipitation</th>\n",
       "    </tr>\n",
       "  </thead>\n",
       "  <tbody>\n",
       "    <tr>\n",
       "      <th>0</th>\n",
       "      <td>2016-08-23</td>\n",
       "      <td>0.00</td>\n",
       "    </tr>\n",
       "    <tr>\n",
       "      <th>1</th>\n",
       "      <td>2016-08-24</td>\n",
       "      <td>0.08</td>\n",
       "    </tr>\n",
       "    <tr>\n",
       "      <th>2</th>\n",
       "      <td>2016-08-25</td>\n",
       "      <td>0.08</td>\n",
       "    </tr>\n",
       "    <tr>\n",
       "      <th>3</th>\n",
       "      <td>2016-08-26</td>\n",
       "      <td>0.00</td>\n",
       "    </tr>\n",
       "    <tr>\n",
       "      <th>4</th>\n",
       "      <td>2016-08-27</td>\n",
       "      <td>0.00</td>\n",
       "    </tr>\n",
       "  </tbody>\n",
       "</table>\n",
       "</div>"
      ],
      "text/plain": [
       "         date  precipitation\n",
       "0  2016-08-23           0.00\n",
       "1  2016-08-24           0.08\n",
       "2  2016-08-25           0.08\n",
       "3  2016-08-26           0.00\n",
       "4  2016-08-27           0.00"
      ]
     },
     "execution_count": 9,
     "metadata": {},
     "output_type": "execute_result"
    }
   ],
   "source": [
    "prcp_df.head()"
   ]
  },
  {
   "cell_type": "code",
   "execution_count": 10,
   "metadata": {},
   "outputs": [
    {
     "data": {
      "text/html": [
       "<div>\n",
       "<style>\n",
       "    .dataframe thead tr:only-child th {\n",
       "        text-align: right;\n",
       "    }\n",
       "\n",
       "    .dataframe thead th {\n",
       "        text-align: left;\n",
       "    }\n",
       "\n",
       "    .dataframe tbody tr th {\n",
       "        vertical-align: top;\n",
       "    }\n",
       "</style>\n",
       "<table border=\"1\" class=\"dataframe\">\n",
       "  <thead>\n",
       "    <tr style=\"text-align: right;\">\n",
       "      <th></th>\n",
       "      <th>precipitation</th>\n",
       "    </tr>\n",
       "    <tr>\n",
       "      <th>date</th>\n",
       "      <th></th>\n",
       "    </tr>\n",
       "  </thead>\n",
       "  <tbody>\n",
       "    <tr>\n",
       "      <th>2016-08-23</th>\n",
       "      <td>0.00</td>\n",
       "    </tr>\n",
       "    <tr>\n",
       "      <th>2016-08-24</th>\n",
       "      <td>0.08</td>\n",
       "    </tr>\n",
       "    <tr>\n",
       "      <th>2016-08-25</th>\n",
       "      <td>0.08</td>\n",
       "    </tr>\n",
       "    <tr>\n",
       "      <th>2016-08-26</th>\n",
       "      <td>0.00</td>\n",
       "    </tr>\n",
       "    <tr>\n",
       "      <th>2016-08-27</th>\n",
       "      <td>0.00</td>\n",
       "    </tr>\n",
       "  </tbody>\n",
       "</table>\n",
       "</div>"
      ],
      "text/plain": [
       "            precipitation\n",
       "date                     \n",
       "2016-08-23           0.00\n",
       "2016-08-24           0.08\n",
       "2016-08-25           0.08\n",
       "2016-08-26           0.00\n",
       "2016-08-27           0.00"
      ]
     },
     "execution_count": 10,
     "metadata": {},
     "output_type": "execute_result"
    }
   ],
   "source": [
    "prcp_df = prcp_df.set_index(['date'])\n",
    "prcp_df.head()"
   ]
  },
  {
   "cell_type": "code",
   "execution_count": 11,
   "metadata": {},
   "outputs": [
    {
     "data": {
      "image/png": "[encoded data removed]",
      "text/plain": [
       "<matplotlib.figure.Figure at 0x1b74a1980f0>"
      ]
     },
     "metadata": {},
     "output_type": "display_data"
    }
   ],
   "source": [
    "prcp_df.plot()\n",
    "plt.xticks(rotation=45)\n",
    "plt.legend(loc=2)\n",
    "plt.show()"
   ]
  },
  {
   "cell_type": "code",
   "execution_count": 12,
   "metadata": {},
   "outputs": [
    {
     "data": {
      "text/html": [
       "<div>\n",
       "<style>\n",
       "    .dataframe thead tr:only-child th {\n",
       "        text-align: right;\n",
       "    }\n",
       "\n",
       "    .dataframe thead th {\n",
       "        text-align: left;\n",
       "    }\n",
       "\n",
       "    .dataframe tbody tr th {\n",
       "        vertical-align: top;\n",
       "    }\n",
       "</style>\n",
       "<table border=\"1\" class=\"dataframe\">\n",
       "  <thead>\n",
       "    <tr style=\"text-align: right;\">\n",
       "      <th></th>\n",
       "      <th>precipitation</th>\n",
       "    </tr>\n",
       "  </thead>\n",
       "  <tbody>\n",
       "    <tr>\n",
       "      <th>count</th>\n",
       "      <td>2021.000000</td>\n",
       "    </tr>\n",
       "    <tr>\n",
       "      <th>mean</th>\n",
       "      <td>0.177279</td>\n",
       "    </tr>\n",
       "    <tr>\n",
       "      <th>std</th>\n",
       "      <td>0.461190</td>\n",
       "    </tr>\n",
       "    <tr>\n",
       "      <th>min</th>\n",
       "      <td>0.000000</td>\n",
       "    </tr>\n",
       "    <tr>\n",
       "      <th>25%</th>\n",
       "      <td>0.000000</td>\n",
       "    </tr>\n",
       "    <tr>\n",
       "      <th>50%</th>\n",
       "      <td>0.020000</td>\n",
       "    </tr>\n",
       "    <tr>\n",
       "      <th>75%</th>\n",
       "      <td>0.130000</td>\n",
       "    </tr>\n",
       "    <tr>\n",
       "      <th>max</th>\n",
       "      <td>6.700000</td>\n",
       "    </tr>\n",
       "  </tbody>\n",
       "</table>\n",
       "</div>"
      ],
      "text/plain": [
       "       precipitation\n",
       "count    2021.000000\n",
       "mean        0.177279\n",
       "std         0.461190\n",
       "min         0.000000\n",
       "25%         0.000000\n",
       "50%         0.020000\n",
       "75%         0.130000\n",
       "max         6.700000"
      ]
     },
     "execution_count": 12,
     "metadata": {},
     "output_type": "execute_result"
    }
   ],
   "source": [
    "prcp_df.describe()"
   ]
  },
  {
   "cell_type": "markdown",
   "metadata": {},
   "source": [
    "### Station Analysis"
   ]
  },
  {
   "cell_type": "code",
   "execution_count": 13,
   "metadata": {},
   "outputs": [
    {
     "name": "stdout",
     "output_type": "stream",
     "text": [
      "Total number of stations: 9\n"
     ]
    }
   ],
   "source": [
    "print(\"Total number of stations:\", session.query(Station).count())"
   ]
  },
  {
   "cell_type": "code",
   "execution_count": 14,
   "metadata": {},
   "outputs": [
    {
     "name": "stdout",
     "output_type": "stream",
     "text": [
      "Stations with temperature observation counts in descending order\n"
     ]
    },
    {
     "data": {
      "text/plain": [
       "[('USC00519281', 'WAIHEE 837.5, HI US', 2772),\n",
       " ('USC00513117', 'KANEOHE 838.1, HI US', 2696),\n",
       " ('USC00519397', 'WAIKIKI 717.2, HI US', 2685),\n",
       " ('USC00519523', 'WAIMANALO EXPERIMENTAL FARM, HI US', 2572),\n",
       " ('USC00516128', 'MANOA LYON ARBO 785.2, HI US', 2484),\n",
       " ('USC00514830', 'KUALOA RANCH HEADQUARTERS 886.9, HI US', 1937),\n",
       " ('USC00511918', 'HONOLULU OBSERVATORY 702.2, HI US', 1932),\n",
       " ('USC00517948', 'PEARL CITY, HI US', 683),\n",
       " ('USC00518838', 'UPPER WAHIAWA 874.3, HI US', 342)]"
      ]
     },
     "execution_count": 14,
     "metadata": {},
     "output_type": "execute_result"
    }
   ],
   "source": [
    "print(\"Stations with temperature observation counts in descending order\")\n",
    "staTempObs = session.query(Measurement.station, Station.name, func.count(Measurement.tobs)).filter(Measurement.station == Station.station).group_by(Measurement.station).order_by(func.count(Measurement.tobs).desc()).all()\n",
    "staTempObs"
   ]
  },
  {
   "cell_type": "code",
   "execution_count": 15,
   "metadata": {},
   "outputs": [
    {
     "name": "stdout",
     "output_type": "stream",
     "text": [
      "Station: WAIHEE 837.5, HI US has the highest number of observations i.e. 2772\n"
     ]
    },
    {
     "data": {
      "image/png": "[encoded data removed]",
      "text/plain": [
       "<matplotlib.figure.Figure at 0x1b74a623898>"
      ]
     },
     "metadata": {},
     "output_type": "display_data"
    }
   ],
   "source": [
    "sta_id_obs_max = staTempObs[:1][0][0]\n",
    "sta_name_obs_max = staTempObs[:1][0][1]\n",
    "sta_name_obs_count = staTempObs[:1][0][2]\n",
    "print(\"Station:\", sta_name_obs_max, \"has the highest number of observations i.e.\", sta_name_obs_count)\n",
    "\n",
    "temp_readings_1 = []\n",
    "for row in session.query(Measurement.tobs).filter(Measurement.station==sta_id_obs_max, Measurement.date.between(start_dt, end_dt)).all():\n",
    "    temp_readings_1.append(row.tobs)\n",
    "\n",
    "plt.hist(temp_readings_1, 12, facecolor='blue', alpha=0.75)\n",
    "plt.legend(loc=1, labels=['tobs'])\n",
    "plt.ylabel('Frequency')\n",
    "plt.title('Station ' +sta_name_obs_max + ' Readings frequency in past 12 months from ' + start_dt.strftime('%Y-%m-%d'))\n",
    "plt.show()"
   ]
  },
  {
   "cell_type": "code",
   "execution_count": 16,
   "metadata": {},
   "outputs": [
    {
     "name": "stdout",
     "output_type": "stream",
     "text": [
      "Station: WAIKIKI 717.2, HI US has the highest number of observations i.e. 359 in past 12 months from 2016-08-23\n"
     ]
    },
    {
     "data": {
      "image/png": "[encoded data removed]",
      "text/plain": [
       "<matplotlib.figure.Figure at 0x1b74a6f1320>"
      ]
     },
     "metadata": {},
     "output_type": "display_data"
    }
   ],
   "source": [
    "staWithMaxObs_12Months = session.query(Measurement.station.label('stationID'), Station.name.label('stationName'), func.count(Measurement.tobs).label('observationCount')).filter(Measurement.station == Station.station, Measurement.date.between(start_dt, end_dt)).group_by(Measurement.station).order_by(func.count(Measurement.tobs).desc()).first()\n",
    "\n",
    "print(\"Station:\", staWithMaxObs_12Months.stationName, \"has the highest number of observations i.e.\", staWithMaxObs_12Months.observationCount, \"in past 12 months from \" + start_dt.strftime('%Y-%m-%d'))\n",
    "\n",
    "temp_readings_2 = []\n",
    "for row in session.query(Measurement.tobs).filter(Measurement.station==staWithMaxObs_12Months.stationID, Measurement.date.between(start_dt, end_dt)).all():\n",
    "    temp_readings_2.append(row.tobs)\n",
    "\n",
    "plt.hist(temp_readings_2, 12, facecolor='blue', alpha=0.75)\n",
    "plt.legend(loc=1, labels=['tobs'])\n",
    "plt.ylabel('Frequency')\n",
    "plt.title('Station ' +staWithMaxObs_12Months.stationName + ' Readings frequency in past 12 months from ' + start_dt.strftime('%Y-%m-%d'))\n",
    "plt.show()"
   ]
  },
  {
   "cell_type": "markdown",
   "metadata": {},
   "source": [
    "### Temperature Analysis"
   ]
  },
  {
   "cell_type": "code",
   "execution_count": 17,
   "metadata": {
    "collapsed": true
   },
   "outputs": [],
   "source": [
    "def calc_temps(start_dt, end_dt):\n",
    "    ref_start_dt = (datetime.strptime(start_dt,'%Y-%m-%d') - timedelta(days=365)).strftime('%Y-%m-%d')\n",
    "    ref_end_dt = (datetime.strptime(end_dt,'%Y-%m-%d') - timedelta(days=365)).strftime('%Y-%m-%d')\n",
    "    temp = session.query(func.max(Measurement.tobs).label('max_temp'), func.min(Measurement.tobs).label('min_temp'), func.avg(Measurement.tobs).label('avg_temp')).filter(Measurement.date.between(ref_start_dt, ref_end_dt)).first()\n",
    "    print(\"Temperature within trip duration - Max Temp:\", temp.max_temp, \" Min Temp:\", temp.min_temp, \" Avg Temp:\", temp.avg_temp)\n",
    "    return temp"
   ]
  },
  {
   "cell_type": "code",
   "execution_count": 18,
   "metadata": {},
   "outputs": [
    {
     "name": "stdout",
     "output_type": "stream",
     "text": [
      "Temperature within trip duration - Max Temp: 81  Min Temp: 68  Avg Temp: 75.9041095890411\n",
      "(81, 68, 75.9041095890411)\n"
     ]
    }
   ],
   "source": [
    "trip_temp_dtls = calc_temps('2017-10-25', '2017-11-05')\n",
    "print(trip_temp_dtls)"
   ]
  },
  {
   "cell_type": "code",
   "execution_count": 19,
   "metadata": {},
   "outputs": [
    {
     "data": {
      "image/png": "[encoded data removed]",
      "text/plain": [
       "<matplotlib.figure.Figure at 0x1b74b78c240>"
      ]
     },
     "metadata": {},
     "output_type": "display_data"
    }
   ],
   "source": [
    "plt.figure(figsize=(2,4))\n",
    "a = trip_temp_dtls.max_temp - trip_temp_dtls.min_temp\n",
    "plt.bar(0, trip_temp_dtls.avg_temp, color='peachpuff', yerr=a)\n",
    "plt.ylabel('Temp(F)')\n",
    "plt.ylim(0,105)\n",
    "plt.gca().axes.get_xaxis().set_ticks([])\n",
    "plt.title('Trip Avg Temp')\n",
    "plt.show()"
   ]
  },
  {
   "cell_type": "markdown",
   "metadata": {},
   "source": [
    "### Rainfall Analysis"
   ]
  },
  {
   "cell_type": "code",
   "execution_count": 20,
   "metadata": {},
   "outputs": [
    {
     "name": "stdout",
     "output_type": "stream",
     "text": [
      "Stations with rainfall in descending order\n"
     ]
    },
    {
     "data": {
      "text/plain": [
       "[('USC00516128', 1068.0899999999956),\n",
       " ('USC00519281', 588.6399999999976),\n",
       " ('USC00513117', 382.61999999999847),\n",
       " ('USC00519523', 295.67999999999944),\n",
       " ('USC00514830', 234.49000000000026),\n",
       " ('USC00519397', 131.62000000000063),\n",
       " ('USC00511918', 92.68000000000006),\n",
       " ('USC00518838', 70.87000000000005),\n",
       " ('USC00517948', 43.44000000000002)]"
      ]
     },
     "execution_count": 20,
     "metadata": {},
     "output_type": "execute_result"
    }
   ],
   "source": [
    "print(\"Stations with rainfall in descending order\")\n",
    "staPrcpObs = session.query(Measurement.station, func.sum(Measurement.prcp)).group_by(Measurement.station).order_by(func.sum(Measurement.prcp).desc()).all()\n",
    "staPrcpObs"
   ]
  },
  {
   "cell_type": "code",
   "execution_count": 21,
   "metadata": {
    "collapsed": true
   },
   "outputs": [],
   "source": [
    "def daily_normals(dt_lst):\n",
    "    temp_min, temp_max, temp_avg = [], [], []\n",
    "    for dt1 in dt_lst:\n",
    "        dt1_str = '%-' + dt1[5:]\n",
    "        temp = session.query(func.max(Measurement.tobs).label('max_temp'), func.min(Measurement.tobs).label('min_temp'), func.avg(Measurement.tobs).label('avg_temp')).filter(Measurement.date.like(dt1_str)).first()\n",
    "        print(\"Estimated Temperatures for\" , dt1, \" - Max Temp:\", temp.max_temp, \" Min Temp:\", temp.min_temp, \" Avg Temp:\", temp.avg_temp)\n",
    "        temp_min.append(temp.min_temp)\n",
    "        temp_max.append(temp.max_temp)\n",
    "        temp_avg.append(float(temp.avg_temp))\n",
    "    temp_lst = [temp_min, temp_max, temp_avg]\n",
    "    return temp_lst"
   ]
  },
  {
   "cell_type": "code",
   "execution_count": 22,
   "metadata": {},
   "outputs": [
    {
     "name": "stdout",
     "output_type": "stream",
     "text": [
      "Estimated Temperatures for 2018-01-01  - Max Temp: 77  Min Temp: 62  Avg Temp: 69.06\n",
      "Estimated Temperatures for 2018-01-02  - Max Temp: 77  Min Temp: 60  Avg Temp: 69.40816326530613\n",
      "Estimated Temperatures for 2018-01-03  - Max Temp: 77  Min Temp: 62  Avg Temp: 68.83333333333333\n",
      "Estimated Temperatures for 2018-01-04  - Max Temp: 76  Min Temp: 58  Avg Temp: 69.83636363636364\n",
      "Estimated Temperatures for 2018-01-05  - Max Temp: 76  Min Temp: 56  Avg Temp: 68.0\n",
      "Estimated Temperatures for 2018-01-06  - Max Temp: 76  Min Temp: 61  Avg Temp: 68.88679245283019\n",
      "Estimated Temperatures for 2018-01-07  - Max Temp: 76  Min Temp: 57  Avg Temp: 68.38181818181818\n"
     ]
    },
    {
     "data": {
      "text/plain": [
       "[[62, 60, 62, 58, 56, 61, 57],\n",
       " [77, 77, 77, 76, 76, 76, 76],\n",
       " [69.06,\n",
       "  69.40816326530613,\n",
       "  68.83333333333333,\n",
       "  69.83636363636364,\n",
       "  68.0,\n",
       "  68.88679245283019,\n",
       "  68.38181818181818]]"
      ]
     },
     "execution_count": 22,
     "metadata": {},
     "output_type": "execute_result"
    }
   ],
   "source": [
    "dt_lst_1 = ['2018-01-01','2018-01-02','2018-01-03','2018-01-04','2018-01-05','2018-01-06','2018-01-07']\n",
    "temp_lst_1 = daily_normals(dt_lst_1)\n",
    "temp_lst_1"
   ]
  },
  {
   "cell_type": "code",
   "execution_count": 23,
   "metadata": {},
   "outputs": [
    {
     "data": {
      "text/html": [
       "<div>\n",
       "<style>\n",
       "    .dataframe thead tr:only-child th {\n",
       "        text-align: right;\n",
       "    }\n",
       "\n",
       "    .dataframe thead th {\n",
       "        text-align: left;\n",
       "    }\n",
       "\n",
       "    .dataframe tbody tr th {\n",
       "        vertical-align: top;\n",
       "    }\n",
       "</style>\n",
       "<table border=\"1\" class=\"dataframe\">\n",
       "  <thead>\n",
       "    <tr style=\"text-align: right;\">\n",
       "      <th></th>\n",
       "      <th>tmin</th>\n",
       "      <th>tavg</th>\n",
       "      <th>tmax</th>\n",
       "    </tr>\n",
       "    <tr>\n",
       "      <th>date</th>\n",
       "      <th></th>\n",
       "      <th></th>\n",
       "      <th></th>\n",
       "    </tr>\n",
       "  </thead>\n",
       "  <tbody>\n",
       "    <tr>\n",
       "      <th>2018-01-01</th>\n",
       "      <td>62</td>\n",
       "      <td>69.060000</td>\n",
       "      <td>77</td>\n",
       "    </tr>\n",
       "    <tr>\n",
       "      <th>2018-01-02</th>\n",
       "      <td>60</td>\n",
       "      <td>69.408163</td>\n",
       "      <td>77</td>\n",
       "    </tr>\n",
       "    <tr>\n",
       "      <th>2018-01-03</th>\n",
       "      <td>62</td>\n",
       "      <td>68.833333</td>\n",
       "      <td>77</td>\n",
       "    </tr>\n",
       "    <tr>\n",
       "      <th>2018-01-04</th>\n",
       "      <td>58</td>\n",
       "      <td>69.836364</td>\n",
       "      <td>76</td>\n",
       "    </tr>\n",
       "    <tr>\n",
       "      <th>2018-01-05</th>\n",
       "      <td>56</td>\n",
       "      <td>68.000000</td>\n",
       "      <td>76</td>\n",
       "    </tr>\n",
       "  </tbody>\n",
       "</table>\n",
       "</div>"
      ],
      "text/plain": [
       "            tmin       tavg  tmax\n",
       "date                             \n",
       "2018-01-01    62  69.060000    77\n",
       "2018-01-02    60  69.408163    77\n",
       "2018-01-03    62  68.833333    77\n",
       "2018-01-04    58  69.836364    76\n",
       "2018-01-05    56  68.000000    76"
      ]
     },
     "execution_count": 23,
     "metadata": {},
     "output_type": "execute_result"
    }
   ],
   "source": [
    "temp_df = pd.DataFrame({\"date\": dt_lst_1,\n",
    "                  \"tmin\": temp_lst_1[0],\n",
    "                   \"tmax\": temp_lst_1[1],\n",
    "                   \"tavg\":temp_lst_1[2]})\n",
    "temp_df = temp_df.set_index(['date'])\n",
    "temp_df = temp_df[['tmin','tavg','tmax']]\n",
    "temp_df.head()"
   ]
  },
  {
   "cell_type": "code",
   "execution_count": 24,
   "metadata": {},
   "outputs": [
    {
     "data": {
      "image/png": "[encoded data removed]",
      "text/plain": [
       "<matplotlib.figure.Figure at 0x1b74b7c4390>"
      ]
     },
     "metadata": {},
     "output_type": "display_data"
    }
   ],
   "source": [
    "color_l = ['lightskyblue','coral','khaki']\n",
    "temp_df.plot(kind='area', stacked=False, color=color_l)\n",
    "plt.xticks(rotation=45)\n",
    "plt.show()"
   ]
  },
  {
   "cell_type": "code",
   "execution_count": null,
   "metadata": {
    "collapsed": true
   },
   "outputs": [],
   "source": []
  },
  {
   "cell_type": "code",
   "execution_count": null,
   "metadata": {
    "collapsed": true
   },
   "outputs": [],
   "source": []
  }
 ],
 "metadata": {
  "kernelspec": {
   "display_name": "Python [conda env:PythonData2]",
   "language": "python",
   "name": "conda-env-PythonData2-py"
  },
  "language_info": {
   "codemirror_mode": {
    "name": "ipython",
    "version": 3
   },
   "file_extension": ".py",
   "mimetype": "text/x-python",
   "name": "python",
   "nbconvert_exporter": "python",
   "pygments_lexer": "ipython3",
   "version": "3.6.1"
  }
 },
 "nbformat": 4,
 "nbformat_minor": 2
}
